{
  "nbformat": 4,
  "nbformat_minor": 0,
  "metadata": {
    "colab": {
      "provenance": [],
      "authorship_tag": "ABX9TyODKHaEUdU15glAL7U6xcAL",
      "include_colab_link": true
    },
    "kernelspec": {
      "name": "python3",
      "display_name": "Python 3"
    },
    "language_info": {
      "name": "python"
    }
  },
  "cells": [
    {
      "cell_type": "markdown",
      "metadata": {
        "id": "view-in-github",
        "colab_type": "text"
      },
      "source": [
        "<a href=\"https://colab.research.google.com/github/cfreeman22/D213/blob/main/d213_task2_b.ipynb\" target=\"_parent\"><img src=\"https://colab.research.google.com/assets/colab-badge.svg\" alt=\"Open In Colab\"/></a>"
      ]
    },
    {
      "cell_type": "code",
      "source": [
        "import os\n",
        "import json\n",
        "import gzip\n",
        "import pandas as pd\n",
        " "
      ],
      "metadata": {
        "id": "_vA6uzxOONqh"
      },
      "execution_count": 2,
      "outputs": []
    },
    {
      "cell_type": "code",
      "execution_count": 3,
      "metadata": {
        "colab": {
          "base_uri": "https://localhost:8080/"
        },
        "id": "T541pD1fNW6w",
        "outputId": "6afa176e-9892-4496-9151-b99d8a229408"
      },
      "outputs": [
        {
          "output_type": "stream",
          "name": "stdout",
          "text": [
            "Mounted at /content/drive\n"
          ]
        }
      ],
      "source": [
        "#reading the data\n",
        "from google.colab import drive\n",
        "drive.mount('/content/drive')"
      ]
    },
    {
      "cell_type": "code",
      "source": [
        "file_path = '/content/drive/My Drive/Software.json.gz'\n"
      ],
      "metadata": {
        "id": "NmB9Q64aNYUw"
      },
      "execution_count": 4,
      "outputs": []
    },
    {
      "cell_type": "code",
      "source": [
        "def extract_data_from_gzip_json(filepath):\n",
        "    \"\"\"\n",
        "    Extracts data from a json file contained in a gzip and loads it into a pandas DataFrame.\n",
        "\n",
        "    Parameters:\n",
        "        filepath (str): Path to the gzip file containing the json.\n",
        "\n",
        "    Returns:\n",
        "        df (pd.DataFrame): Pandas DataFrame containing the data from the json.\n",
        "    \"\"\"\n",
        "    data = []\n",
        "    with gzip.open(filepath, 'rt', encoding='utf-8') as f:\n",
        "        for line in f:\n",
        "            data.append(json.loads(line))\n",
        "    df = pd.DataFrame(data)\n",
        "    return df\n"
      ],
      "metadata": {
        "id": "EF5-RHF5EONK"
      },
      "execution_count": 1,
      "outputs": []
    },
    {
      "cell_type": "code",
      "source": [
        "data = extract_data_from_gzip_json(file_path)"
      ],
      "metadata": {
        "id": "DgJJZR6UEgLC"
      },
      "execution_count": 5,
      "outputs": []
    },
    {
      "cell_type": "code",
      "source": [],
      "metadata": {
        "id": "mCiyV28Di-7k"
      },
      "execution_count": null,
      "outputs": []
    }
  ]
}