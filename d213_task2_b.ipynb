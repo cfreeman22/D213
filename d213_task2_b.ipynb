{
  "nbformat": 4,
  "nbformat_minor": 0,
  "metadata": {
    "colab": {
      "provenance": [],
      "authorship_tag": "ABX9TyNseqdnp/2x4e9sHTHxQriz",
      "include_colab_link": true
    },
    "kernelspec": {
      "name": "python3",
      "display_name": "Python 3"
    },
    "language_info": {
      "name": "python"
    }
  },
  "cells": [
    {
      "cell_type": "markdown",
      "metadata": {
        "id": "view-in-github",
        "colab_type": "text"
      },
      "source": [
        "<a href=\"https://colab.research.google.com/github/cfreeman22/D213/blob/main/d213_task2_b.ipynb\" target=\"_parent\"><img src=\"https://colab.research.google.com/assets/colab-badge.svg\" alt=\"Open In Colab\"/></a>"
      ]
    },
    {
      "cell_type": "code",
      "source": [
        "import os\n",
        "import json\n",
        "import gzip\n",
        "import pandas as pd\n",
        "\n",
        "import nlp_prepare as prep\n",
        " "
      ],
      "metadata": {
        "id": "_vA6uzxOONqh"
      },
      "execution_count": 1,
      "outputs": []
    },
    {
      "cell_type": "code",
      "execution_count": 2,
      "metadata": {
        "colab": {
          "base_uri": "https://localhost:8080/"
        },
        "id": "T541pD1fNW6w",
        "outputId": "4be3997c-1148-4d7e-9af5-0cee06c950e9"
      },
      "outputs": [
        {
          "output_type": "stream",
          "name": "stdout",
          "text": [
            "Mounted at /content/drive\n"
          ]
        }
      ],
      "source": [
        "#reading the data\n",
        "from google.colab import drive\n",
        "drive.mount('/content/drive')"
      ]
    },
    {
      "cell_type": "code",
      "source": [
        "file_path = '/content/drive/My Drive/Software.json.gz'\n"
      ],
      "metadata": {
        "id": "NmB9Q64aNYUw"
      },
      "execution_count": 3,
      "outputs": []
    },
    {
      "cell_type": "code",
      "source": [
        "data = prep.extract_data_and_process(file_path)"
      ],
      "metadata": {
        "colab": {
          "base_uri": "https://localhost:8080/"
        },
        "id": "IZqu2YRKCeGE",
        "outputId": "c85c62c1-a4d0-4624-c49e-24defcb984be"
      },
      "execution_count": 4,
      "outputs": [
        {
          "output_type": "stream",
          "name": "stdout",
          "text": [
            "   overall  verified   reviewTime      reviewerID        asin  \\\n",
            "0      4.0      True  03 11, 2014  A240ORQ2LF9LUI  0077613252   \n",
            "1      4.0      True  02 23, 2014  A1YCCU0YRLS0FE  0077613252   \n",
            "2      1.0      True  02 17, 2014  A1BJHRQDYVAY2J  0077613252   \n",
            "3      3.0      True  02 17, 2014   APRDVZ6QBIQXT  0077613252   \n",
            "4      5.0     False  10 14, 2013  A2JZTTBSLS1QXV  0077775473   \n",
            "\n",
            "                        style         reviewerName  \\\n",
            "0  {'Format:': ' Loose Leaf'}           Michelle W   \n",
            "1  {'Format:': ' Loose Leaf'}  Rosalind White Ames   \n",
            "2  {'Format:': ' Loose Leaf'}       Allan R. Baker   \n",
            "3  {'Format:': ' Loose Leaf'}                 Lucy   \n",
            "4                         NaN            Albert V.   \n",
            "\n",
            "                                          reviewText  \\\n",
            "0  The materials arrived early and were in excell...   \n",
            "1  I am really enjoying this book with the worksh...   \n",
            "2  IF YOU ARE TAKING THIS CLASS DON\"T WASTE YOUR ...   \n",
            "3  This book was missing pages!!! Important pages...   \n",
            "4  I have used LearnSmart and can officially say ...   \n",
            "\n",
            "                         summary  unixReviewTime vote image  \n",
            "0                 Material Great      1394496000  NaN   NaN  \n",
            "1                         Health      1393113600  NaN   NaN  \n",
            "2             ARE YOU KIDING ME?      1392595200    7   NaN  \n",
            "3                missing pages!!      1392595200    3   NaN  \n",
            "4  Best study product out there!      1381708800  NaN   NaN  \n",
            "Shape of the original dataframe is (459436, 12)\n",
            "****************************************************\n",
            "****************************************************\n",
            "Extracted columns for our analysis : overall, reviewText\n",
            "****************************************************\n",
            "****************************************************\n",
            "printing the new dataframe\n",
            "   overall                                         reviewText\n",
            "0      4.0  The materials arrived early and were in excell...\n",
            "1      4.0  I am really enjoying this book with the worksh...\n",
            "2      1.0  IF YOU ARE TAKING THIS CLASS DON\"T WASTE YOUR ...\n",
            "3      3.0  This book was missing pages!!! Important pages...\n",
            "4      5.0  I have used LearnSmart and can officially say ...\n",
            "****************************************************\n",
            "****************************************************\n",
            "checking for nulls , and dropping if necessary....\n",
            "score      0\n",
            "review    66\n",
            "dtype: int64\n",
            "Renaming overall to score and, reviewText to review\n",
            "****************************************************\n",
            "****************************************************\n",
            "Creating the column sentiment and dividing the score as follows (1,2)=negative,(3)= neutral,(4,5) = positive\n",
            "****************************************************\n",
            "****************************************************\n",
            "Checking that the nulls are dropped\n",
            "score     0\n",
            "review    0\n",
            "dtype: int64\n",
            "****************************************************\n",
            "****************************************************\n",
            "printing new dataframe\n",
            "   score                                             review sentiments\n",
            "0    4.0  The materials arrived early and were in excell...   positive\n",
            "1    4.0  I am really enjoying this book with the worksh...   positive\n",
            "2    1.0  IF YOU ARE TAKING THIS CLASS DON\"T WASTE YOUR ...   negative\n",
            "3    3.0  This book was missing pages!!! Important pages...    neutral\n",
            "4    5.0  I have used LearnSmart and can officially say ...   positive\n"
          ]
        }
      ]
    },
    {
      "cell_type": "code",
      "source": [
        "data.head()"
      ],
      "metadata": {
        "colab": {
          "base_uri": "https://localhost:8080/",
          "height": 206
        },
        "id": "BtYxgdQdCeDA",
        "outputId": "9e035cd8-cea8-4c0c-985f-6b8944ff0063"
      },
      "execution_count": 5,
      "outputs": [
        {
          "output_type": "execute_result",
          "data": {
            "text/plain": [
              "   score                                             review sentiments\n",
              "0    4.0  The materials arrived early and were in excell...   positive\n",
              "1    4.0  I am really enjoying this book with the worksh...   positive\n",
              "2    1.0  IF YOU ARE TAKING THIS CLASS DON\"T WASTE YOUR ...   negative\n",
              "3    3.0  This book was missing pages!!! Important pages...    neutral\n",
              "4    5.0  I have used LearnSmart and can officially say ...   positive"
            ],
            "text/html": [
              "\n",
              "  <div id=\"df-e71d7ecd-ca1b-4727-a8b0-baed22a9916e\">\n",
              "    <div class=\"colab-df-container\">\n",
              "      <div>\n",
              "<style scoped>\n",
              "    .dataframe tbody tr th:only-of-type {\n",
              "        vertical-align: middle;\n",
              "    }\n",
              "\n",
              "    .dataframe tbody tr th {\n",
              "        vertical-align: top;\n",
              "    }\n",
              "\n",
              "    .dataframe thead th {\n",
              "        text-align: right;\n",
              "    }\n",
              "</style>\n",
              "<table border=\"1\" class=\"dataframe\">\n",
              "  <thead>\n",
              "    <tr style=\"text-align: right;\">\n",
              "      <th></th>\n",
              "      <th>score</th>\n",
              "      <th>review</th>\n",
              "      <th>sentiments</th>\n",
              "    </tr>\n",
              "  </thead>\n",
              "  <tbody>\n",
              "    <tr>\n",
              "      <th>0</th>\n",
              "      <td>4.0</td>\n",
              "      <td>The materials arrived early and were in excell...</td>\n",
              "      <td>positive</td>\n",
              "    </tr>\n",
              "    <tr>\n",
              "      <th>1</th>\n",
              "      <td>4.0</td>\n",
              "      <td>I am really enjoying this book with the worksh...</td>\n",
              "      <td>positive</td>\n",
              "    </tr>\n",
              "    <tr>\n",
              "      <th>2</th>\n",
              "      <td>1.0</td>\n",
              "      <td>IF YOU ARE TAKING THIS CLASS DON\"T WASTE YOUR ...</td>\n",
              "      <td>negative</td>\n",
              "    </tr>\n",
              "    <tr>\n",
              "      <th>3</th>\n",
              "      <td>3.0</td>\n",
              "      <td>This book was missing pages!!! Important pages...</td>\n",
              "      <td>neutral</td>\n",
              "    </tr>\n",
              "    <tr>\n",
              "      <th>4</th>\n",
              "      <td>5.0</td>\n",
              "      <td>I have used LearnSmart and can officially say ...</td>\n",
              "      <td>positive</td>\n",
              "    </tr>\n",
              "  </tbody>\n",
              "</table>\n",
              "</div>\n",
              "      <button class=\"colab-df-convert\" onclick=\"convertToInteractive('df-e71d7ecd-ca1b-4727-a8b0-baed22a9916e')\"\n",
              "              title=\"Convert this dataframe to an interactive table.\"\n",
              "              style=\"display:none;\">\n",
              "        \n",
              "  <svg xmlns=\"http://www.w3.org/2000/svg\" height=\"24px\"viewBox=\"0 0 24 24\"\n",
              "       width=\"24px\">\n",
              "    <path d=\"M0 0h24v24H0V0z\" fill=\"none\"/>\n",
              "    <path d=\"M18.56 5.44l.94 2.06.94-2.06 2.06-.94-2.06-.94-.94-2.06-.94 2.06-2.06.94zm-11 1L8.5 8.5l.94-2.06 2.06-.94-2.06-.94L8.5 2.5l-.94 2.06-2.06.94zm10 10l.94 2.06.94-2.06 2.06-.94-2.06-.94-.94-2.06-.94 2.06-2.06.94z\"/><path d=\"M17.41 7.96l-1.37-1.37c-.4-.4-.92-.59-1.43-.59-.52 0-1.04.2-1.43.59L10.3 9.45l-7.72 7.72c-.78.78-.78 2.05 0 2.83L4 21.41c.39.39.9.59 1.41.59.51 0 1.02-.2 1.41-.59l7.78-7.78 2.81-2.81c.8-.78.8-2.07 0-2.86zM5.41 20L4 18.59l7.72-7.72 1.47 1.35L5.41 20z\"/>\n",
              "  </svg>\n",
              "      </button>\n",
              "      \n",
              "  <style>\n",
              "    .colab-df-container {\n",
              "      display:flex;\n",
              "      flex-wrap:wrap;\n",
              "      gap: 12px;\n",
              "    }\n",
              "\n",
              "    .colab-df-convert {\n",
              "      background-color: #E8F0FE;\n",
              "      border: none;\n",
              "      border-radius: 50%;\n",
              "      cursor: pointer;\n",
              "      display: none;\n",
              "      fill: #1967D2;\n",
              "      height: 32px;\n",
              "      padding: 0 0 0 0;\n",
              "      width: 32px;\n",
              "    }\n",
              "\n",
              "    .colab-df-convert:hover {\n",
              "      background-color: #E2EBFA;\n",
              "      box-shadow: 0px 1px 2px rgba(60, 64, 67, 0.3), 0px 1px 3px 1px rgba(60, 64, 67, 0.15);\n",
              "      fill: #174EA6;\n",
              "    }\n",
              "\n",
              "    [theme=dark] .colab-df-convert {\n",
              "      background-color: #3B4455;\n",
              "      fill: #D2E3FC;\n",
              "    }\n",
              "\n",
              "    [theme=dark] .colab-df-convert:hover {\n",
              "      background-color: #434B5C;\n",
              "      box-shadow: 0px 1px 3px 1px rgba(0, 0, 0, 0.15);\n",
              "      filter: drop-shadow(0px 1px 2px rgba(0, 0, 0, 0.3));\n",
              "      fill: #FFFFFF;\n",
              "    }\n",
              "  </style>\n",
              "\n",
              "      <script>\n",
              "        const buttonEl =\n",
              "          document.querySelector('#df-e71d7ecd-ca1b-4727-a8b0-baed22a9916e button.colab-df-convert');\n",
              "        buttonEl.style.display =\n",
              "          google.colab.kernel.accessAllowed ? 'block' : 'none';\n",
              "\n",
              "        async function convertToInteractive(key) {\n",
              "          const element = document.querySelector('#df-e71d7ecd-ca1b-4727-a8b0-baed22a9916e');\n",
              "          const dataTable =\n",
              "            await google.colab.kernel.invokeFunction('convertToInteractive',\n",
              "                                                     [key], {});\n",
              "          if (!dataTable) return;\n",
              "\n",
              "          const docLinkHtml = 'Like what you see? Visit the ' +\n",
              "            '<a target=\"_blank\" href=https://colab.research.google.com/notebooks/data_table.ipynb>data table notebook</a>'\n",
              "            + ' to learn more about interactive tables.';\n",
              "          element.innerHTML = '';\n",
              "          dataTable['output_type'] = 'display_data';\n",
              "          await google.colab.output.renderOutput(dataTable, element);\n",
              "          const docLink = document.createElement('div');\n",
              "          docLink.innerHTML = docLinkHtml;\n",
              "          element.appendChild(docLink);\n",
              "        }\n",
              "      </script>\n",
              "    </div>\n",
              "  </div>\n",
              "  "
            ]
          },
          "metadata": {},
          "execution_count": 5
        }
      ]
    },
    {
      "cell_type": "code",
      "source": [],
      "metadata": {
        "id": "412aZh2CCd_9"
      },
      "execution_count": null,
      "outputs": []
    }
  ]
}