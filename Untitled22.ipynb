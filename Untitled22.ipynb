{
  "nbformat": 4,
  "nbformat_minor": 0,
  "metadata": {
    "colab": {
      "provenance": [],
      "authorship_tag": "ABX9TyOx+aSV5P3stAPxVrN6mygm",
      "include_colab_link": true
    },
    "kernelspec": {
      "name": "python3",
      "display_name": "Python 3"
    },
    "language_info": {
      "name": "python"
    }
  },
  "cells": [
    {
      "cell_type": "markdown",
      "metadata": {
        "id": "view-in-github",
        "colab_type": "text"
      },
      "source": [
        "<a href=\"https://colab.research.google.com/github/cfreeman22/D213/blob/main/Untitled22.ipynb\" target=\"_parent\"><img src=\"https://colab.research.google.com/assets/colab-badge.svg\" alt=\"Open In Colab\"/></a>"
      ]
    },
    {
      "cell_type": "code",
      "source": [
        "import os\n",
        "import json\n",
        "import gzip\n",
        "import pandas as pd \n",
        "\n",
        "def extract_data_and_process(filepath):\n",
        "    \"\"\"\n",
        "    Extracts data from a json file contained in a gzip, processes the data and loads it into a pandas DataFrame.\n",
        "\n",
        "    Parameters:\n",
        "        filepath (str): Path to the gzip file containing the json.\n",
        "\n",
        "    Returns:\n",
        "        new_df (pd.DataFrame): Pandas DataFrame containing the processed data.\n",
        "    \"\"\"\n",
        "    data = []\n",
        "    with gzip.open(filepath, 'rt', encoding='utf-8') as f:\n",
        "        for line in f:\n",
        "            data.append(json.loads(line))\n",
        "    df = pd.DataFrame(data)\n",
        "    \n",
        "    print(df.shape) \n",
        "    print('Extracted columns for our analysis : overall, reviewText')\n",
        "    \n",
        "    new_df = df[['overall','reviewText']]\n",
        "    print(new_df.head()) \n",
        "    \n",
        "    new_df = new_df.rename(columns={'overall': 'score', 'reviewText': 'review'})\n",
        "    print('checking for nulls , and dropping if necessary....')\n",
        "    \n",
        "    print(new_df.isnull().sum(axis=0)) \n",
        "    new_df = new_df.dropna() \n",
        "    print('Renaming overall to score and, reviewText to review')\n",
        "    print('Creating a column named sentiment and dividing the score as follows (1,2)= negative, (3) = neutral, (4,5) = positive')  \n",
        "    \n",
        "    new_df['sentiments'] = new_df.score.replace({4: 'positive', 5: 'positive', 1: 'negative', 2: 'negative', 3: 'neutral'})\n",
        "    \n",
        "    return new_df\n"
      ],
      "metadata": {
        "id": "Jh8ZqzF_9RrC"
      },
      "execution_count": 1,
      "outputs": []
    },
    {
      "cell_type": "code",
      "source": [
        "import string\n",
        "from nltk.corpus import stopwords\n",
        "from wordcloud import WordCloud\n",
        "import matplotlib.pyplot as plt\n",
        "\n",
        "def generate_wordcloud(text):\n",
        "    \"\"\"\n",
        "    Cleans the input text, removes stop words, and generates a word cloud using the cleaned text.\n",
        "\n",
        "    Parameters:\n",
        "        text (str): The input text to generate the word cloud for.\n",
        "\n",
        "    Returns:\n",
        "        None.\n",
        "    \"\"\"\n",
        "    # Define stop words\n",
        "    stop_words = set(stopwords.words('english'))\n",
        "\n",
        "    # Clean text\n",
        "    text = text.translate(str.maketrans('', '', string.punctuation)).lower()\n",
        "    words = [word for word in text.split() if word not in stop_words]\n",
        "    cleaned_text = ' '.join(words)\n",
        "\n",
        "    # Generate word cloud\n",
        "    wc = WordCloud(width=800, height=400, background_color='white').generate(cleaned_text)\n",
        "\n",
        "    # Plot word cloud\n",
        "    plt.figure(figsize=(12, 10))\n",
        "    plt.imshow(wc, interpolation='bilinear')\n",
        "    plt.axis('off')\n",
        "    plt.show()\n"
      ],
      "metadata": {
        "id": "5wVf0mlTBFZz"
      },
      "execution_count": null,
      "outputs": []
    }
  ]
}