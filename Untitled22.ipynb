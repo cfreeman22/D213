{
  "nbformat": 4,
  "nbformat_minor": 0,
  "metadata": {
    "colab": {
      "provenance": [],
      "authorship_tag": "ABX9TyPaUPHGTuvYuPugV0qw0Am9",
      "include_colab_link": true
    },
    "kernelspec": {
      "name": "python3",
      "display_name": "Python 3"
    },
    "language_info": {
      "name": "python"
    }
  },
  "cells": [
    {
      "cell_type": "markdown",
      "metadata": {
        "id": "view-in-github",
        "colab_type": "text"
      },
      "source": [
        "<a href=\"https://colab.research.google.com/github/cfreeman22/D213/blob/main/Untitled22.ipynb\" target=\"_parent\"><img src=\"https://colab.research.google.com/assets/colab-badge.svg\" alt=\"Open In Colab\"/></a>"
      ]
    },
    {
      "cell_type": "code",
      "source": [
        "import os\n",
        "import json\n",
        "import gzip\n",
        "import pandas as pd"
      ],
      "metadata": {
        "id": "QIWCrgc4-c28"
      },
      "execution_count": null,
      "outputs": []
    },
    {
      "cell_type": "code",
      "execution_count": null,
      "metadata": {
        "id": "6WzNu2bw44_S"
      },
      "outputs": [],
      "source": [
        "def extract_data_from_gzip_json(filepath):\n",
        "    \"\"\"\n",
        "    Extracts data from a json file contained in a gzip and loads it into a pandas DataFrame.\n",
        "\n",
        "    Parameters:\n",
        "        filepath (str): Path to the gzip file containing the json.\n",
        "\n",
        "    Returns:\n",
        "        df (pd.DataFrame): Pandas DataFrame containing the data from the json.\n",
        "    \"\"\"\n",
        "    data = []\n",
        "    with gzip.open(filepath, 'rt', encoding='utf-8') as f:\n",
        "        for line in f:\n",
        "            data.append(json.loads(line))\n",
        "    df = pd.DataFrame(data)\n",
        "    return df"
      ]
    },
    {
      "cell_type": "code",
      "source": [
        "print(data.shape) "
      ],
      "metadata": {
        "id": "jR9LPe1868ml"
      },
      "execution_count": null,
      "outputs": []
    },
    {
      "cell_type": "code",
      "source": [
        "print('Extracted columns for our analysis : overall, reviewText')"
      ],
      "metadata": {
        "id": "ZG4oUGUJ7Hgq"
      },
      "execution_count": null,
      "outputs": []
    },
    {
      "cell_type": "code",
      "source": [
        "new_df = data[['overall','reviewText']]"
      ],
      "metadata": {
        "id": "PD0YQ3HT98TT"
      },
      "execution_count": null,
      "outputs": []
    },
    {
      "cell_type": "code",
      "source": [
        "print(new_df.head())"
      ],
      "metadata": {
        "id": "3fnV--q37gwY"
      },
      "execution_count": null,
      "outputs": []
    },
    {
      "cell_type": "code",
      "source": [
        "new_df = new_df.rename(columns={'overall': 'score', 'reviewText': 'review'})"
      ],
      "metadata": {
        "id": "I4dbUKdM916-"
      },
      "execution_count": null,
      "outputs": []
    },
    {
      "cell_type": "code",
      "source": [
        "print('checking for nulls , and dropping if neccesary....')\n",
        "print(new_df.isnull().sum(axis=0))"
      ],
      "metadata": {
        "id": "iBA3Ts2D7xmS"
      },
      "execution_count": null,
      "outputs": []
    },
    {
      "cell_type": "code",
      "source": [
        "new_df = new_df.dropna()"
      ],
      "metadata": {
        "id": "6yVrHmn69jsK"
      },
      "execution_count": null,
      "outputs": []
    },
    {
      "cell_type": "code",
      "source": [
        "print('Renaming overall to score and, reviewText to review')\n",
        "print('Creating a column named sentiment and dividing the score as follows (1,2)= negative, (3) = neutral, (4,5) = positive')"
      ],
      "metadata": {
        "id": "PnjoKK0U8K_0"
      },
      "execution_count": null,
      "outputs": []
    },
    {
      "cell_type": "code",
      "source": [
        "new_df['sentiments'] = new_df.score.replace({4: 'positive', 5: 'positive', 1: 'negative', 2: 'negative', 3: 'neutral'})"
      ],
      "metadata": {
        "id": "EhpLv9Ia-Kqy"
      },
      "execution_count": null,
      "outputs": []
    },
    {
      "cell_type": "code",
      "source": [],
      "metadata": {
        "id": "Jh8ZqzF_9RrC"
      },
      "execution_count": null,
      "outputs": []
    }
  ]
}