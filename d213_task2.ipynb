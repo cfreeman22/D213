{
  "nbformat": 4,
  "nbformat_minor": 0,
  "metadata": {
    "colab": {
      "provenance": [],
      "authorship_tag": "ABX9TyPlASuSi2D9qsmaOpR3bdt5",
      "include_colab_link": true
    },
    "kernelspec": {
      "name": "python3",
      "display_name": "Python 3"
    },
    "language_info": {
      "name": "python"
    }
  },
  "cells": [
    {
      "cell_type": "markdown",
      "metadata": {
        "id": "view-in-github",
        "colab_type": "text"
      },
      "source": [
        "<a href=\"https://colab.research.google.com/github/cfreeman22/D213/blob/main/d213_task2.ipynb\" target=\"_parent\"><img src=\"https://colab.research.google.com/assets/colab-badge.svg\" alt=\"Open In Colab\"/></a>"
      ]
    },
    {
      "cell_type": "code",
      "source": [
        "import os\n",
        "import json\n",
        "import gzip\n",
        "import pandas as pd\n",
        "from urllib.request import urlopen"
      ],
      "metadata": {
        "id": "_vA6uzxOONqh"
      },
      "execution_count": 1,
      "outputs": []
    },
    {
      "cell_type": "code",
      "execution_count": 3,
      "metadata": {
        "colab": {
          "base_uri": "https://localhost:8080/"
        },
        "id": "T541pD1fNW6w",
        "outputId": "3a24bc36-0ada-4c8c-d8ce-1a63a816d3dc"
      },
      "outputs": [
        {
          "output_type": "stream",
          "name": "stdout",
          "text": [
            "Mounted at /content/drive\n"
          ]
        }
      ],
      "source": [
        "#reading the data\n",
        "from google.colab import drive\n",
        "drive.mount('/content/drive')"
      ]
    },
    {
      "cell_type": "code",
      "source": [
        "file_path = '/content/drive/My Drive/Software.json.gz'\n"
      ],
      "metadata": {
        "id": "NmB9Q64aNYUw"
      },
      "execution_count": 4,
      "outputs": []
    },
    {
      "cell_type": "code",
      "source": [
        "### load the meta data\n",
        "\n",
        "data = []\n",
        "with gzip.open(file_path) as f:\n",
        "    for l in f:\n",
        "        data.append(json.loads(l.strip()))\n",
        "    \n",
        "# total length of list, this number equals total number of products\n",
        "#print(len(data))\n",
        "\n",
        "# first row of the list\n",
        "#print(data[0])"
      ],
      "metadata": {
        "colab": {
          "base_uri": "https://localhost:8080/"
        },
        "id": "rvgWp4oYOBFa",
        "outputId": "2a93f3ec-f69e-4129-c966-74dfa05415c5"
      },
      "execution_count": 5,
      "outputs": [
        {
          "output_type": "stream",
          "name": "stdout",
          "text": [
            "459436\n"
          ]
        }
      ]
    },
    {
      "cell_type": "code",
      "source": [
        "# convert list into pandas dataframe\n",
        "\n",
        "df = pd.DataFrame.from_dict(data)\n",
        "\n",
        "print(len(df))"
      ],
      "metadata": {
        "colab": {
          "base_uri": "https://localhost:8080/"
        },
        "id": "X89fYH8IOXWa",
        "outputId": "52bfbe6a-d655-4df8-eed3-6b7c1a95b5ac"
      },
      "execution_count": 6,
      "outputs": [
        {
          "output_type": "stream",
          "name": "stdout",
          "text": [
            "459436\n"
          ]
        }
      ]
    },
    {
      "cell_type": "code",
      "source": [
        "df.head()"
      ],
      "metadata": {
        "colab": {
          "base_uri": "https://localhost:8080/",
          "height": 337
        },
        "id": "bMGvu8dFOpYC",
        "outputId": "85a59d96-24d5-4652-a54f-bb6def6ddce0"
      },
      "execution_count": 7,
      "outputs": [
        {
          "output_type": "execute_result",
          "data": {
            "text/plain": [
              "   overall  verified   reviewTime      reviewerID        asin  \\\n",
              "0      4.0      True  03 11, 2014  A240ORQ2LF9LUI  0077613252   \n",
              "1      4.0      True  02 23, 2014  A1YCCU0YRLS0FE  0077613252   \n",
              "2      1.0      True  02 17, 2014  A1BJHRQDYVAY2J  0077613252   \n",
              "3      3.0      True  02 17, 2014   APRDVZ6QBIQXT  0077613252   \n",
              "4      5.0     False  10 14, 2013  A2JZTTBSLS1QXV  0077775473   \n",
              "\n",
              "                        style         reviewerName  \\\n",
              "0  {'Format:': ' Loose Leaf'}           Michelle W   \n",
              "1  {'Format:': ' Loose Leaf'}  Rosalind White Ames   \n",
              "2  {'Format:': ' Loose Leaf'}       Allan R. Baker   \n",
              "3  {'Format:': ' Loose Leaf'}                 Lucy   \n",
              "4                         NaN            Albert V.   \n",
              "\n",
              "                                          reviewText  \\\n",
              "0  The materials arrived early and were in excell...   \n",
              "1  I am really enjoying this book with the worksh...   \n",
              "2  IF YOU ARE TAKING THIS CLASS DON\"T WASTE YOUR ...   \n",
              "3  This book was missing pages!!! Important pages...   \n",
              "4  I have used LearnSmart and can officially say ...   \n",
              "\n",
              "                         summary  unixReviewTime vote image  \n",
              "0                 Material Great      1394496000  NaN   NaN  \n",
              "1                         Health      1393113600  NaN   NaN  \n",
              "2             ARE YOU KIDING ME?      1392595200    7   NaN  \n",
              "3                missing pages!!      1392595200    3   NaN  \n",
              "4  Best study product out there!      1381708800  NaN   NaN  "
            ],
            "text/html": [
              "\n",
              "  <div id=\"df-e83d1035-f4a5-4a6c-bcc8-5c607df6a592\">\n",
              "    <div class=\"colab-df-container\">\n",
              "      <div>\n",
              "<style scoped>\n",
              "    .dataframe tbody tr th:only-of-type {\n",
              "        vertical-align: middle;\n",
              "    }\n",
              "\n",
              "    .dataframe tbody tr th {\n",
              "        vertical-align: top;\n",
              "    }\n",
              "\n",
              "    .dataframe thead th {\n",
              "        text-align: right;\n",
              "    }\n",
              "</style>\n",
              "<table border=\"1\" class=\"dataframe\">\n",
              "  <thead>\n",
              "    <tr style=\"text-align: right;\">\n",
              "      <th></th>\n",
              "      <th>overall</th>\n",
              "      <th>verified</th>\n",
              "      <th>reviewTime</th>\n",
              "      <th>reviewerID</th>\n",
              "      <th>asin</th>\n",
              "      <th>style</th>\n",
              "      <th>reviewerName</th>\n",
              "      <th>reviewText</th>\n",
              "      <th>summary</th>\n",
              "      <th>unixReviewTime</th>\n",
              "      <th>vote</th>\n",
              "      <th>image</th>\n",
              "    </tr>\n",
              "  </thead>\n",
              "  <tbody>\n",
              "    <tr>\n",
              "      <th>0</th>\n",
              "      <td>4.0</td>\n",
              "      <td>True</td>\n",
              "      <td>03 11, 2014</td>\n",
              "      <td>A240ORQ2LF9LUI</td>\n",
              "      <td>0077613252</td>\n",
              "      <td>{'Format:': ' Loose Leaf'}</td>\n",
              "      <td>Michelle W</td>\n",
              "      <td>The materials arrived early and were in excell...</td>\n",
              "      <td>Material Great</td>\n",
              "      <td>1394496000</td>\n",
              "      <td>NaN</td>\n",
              "      <td>NaN</td>\n",
              "    </tr>\n",
              "    <tr>\n",
              "      <th>1</th>\n",
              "      <td>4.0</td>\n",
              "      <td>True</td>\n",
              "      <td>02 23, 2014</td>\n",
              "      <td>A1YCCU0YRLS0FE</td>\n",
              "      <td>0077613252</td>\n",
              "      <td>{'Format:': ' Loose Leaf'}</td>\n",
              "      <td>Rosalind White Ames</td>\n",
              "      <td>I am really enjoying this book with the worksh...</td>\n",
              "      <td>Health</td>\n",
              "      <td>1393113600</td>\n",
              "      <td>NaN</td>\n",
              "      <td>NaN</td>\n",
              "    </tr>\n",
              "    <tr>\n",
              "      <th>2</th>\n",
              "      <td>1.0</td>\n",
              "      <td>True</td>\n",
              "      <td>02 17, 2014</td>\n",
              "      <td>A1BJHRQDYVAY2J</td>\n",
              "      <td>0077613252</td>\n",
              "      <td>{'Format:': ' Loose Leaf'}</td>\n",
              "      <td>Allan R. Baker</td>\n",
              "      <td>IF YOU ARE TAKING THIS CLASS DON\"T WASTE YOUR ...</td>\n",
              "      <td>ARE YOU KIDING ME?</td>\n",
              "      <td>1392595200</td>\n",
              "      <td>7</td>\n",
              "      <td>NaN</td>\n",
              "    </tr>\n",
              "    <tr>\n",
              "      <th>3</th>\n",
              "      <td>3.0</td>\n",
              "      <td>True</td>\n",
              "      <td>02 17, 2014</td>\n",
              "      <td>APRDVZ6QBIQXT</td>\n",
              "      <td>0077613252</td>\n",
              "      <td>{'Format:': ' Loose Leaf'}</td>\n",
              "      <td>Lucy</td>\n",
              "      <td>This book was missing pages!!! Important pages...</td>\n",
              "      <td>missing pages!!</td>\n",
              "      <td>1392595200</td>\n",
              "      <td>3</td>\n",
              "      <td>NaN</td>\n",
              "    </tr>\n",
              "    <tr>\n",
              "      <th>4</th>\n",
              "      <td>5.0</td>\n",
              "      <td>False</td>\n",
              "      <td>10 14, 2013</td>\n",
              "      <td>A2JZTTBSLS1QXV</td>\n",
              "      <td>0077775473</td>\n",
              "      <td>NaN</td>\n",
              "      <td>Albert V.</td>\n",
              "      <td>I have used LearnSmart and can officially say ...</td>\n",
              "      <td>Best study product out there!</td>\n",
              "      <td>1381708800</td>\n",
              "      <td>NaN</td>\n",
              "      <td>NaN</td>\n",
              "    </tr>\n",
              "  </tbody>\n",
              "</table>\n",
              "</div>\n",
              "      <button class=\"colab-df-convert\" onclick=\"convertToInteractive('df-e83d1035-f4a5-4a6c-bcc8-5c607df6a592')\"\n",
              "              title=\"Convert this dataframe to an interactive table.\"\n",
              "              style=\"display:none;\">\n",
              "        \n",
              "  <svg xmlns=\"http://www.w3.org/2000/svg\" height=\"24px\"viewBox=\"0 0 24 24\"\n",
              "       width=\"24px\">\n",
              "    <path d=\"M0 0h24v24H0V0z\" fill=\"none\"/>\n",
              "    <path d=\"M18.56 5.44l.94 2.06.94-2.06 2.06-.94-2.06-.94-.94-2.06-.94 2.06-2.06.94zm-11 1L8.5 8.5l.94-2.06 2.06-.94-2.06-.94L8.5 2.5l-.94 2.06-2.06.94zm10 10l.94 2.06.94-2.06 2.06-.94-2.06-.94-.94-2.06-.94 2.06-2.06.94z\"/><path d=\"M17.41 7.96l-1.37-1.37c-.4-.4-.92-.59-1.43-.59-.52 0-1.04.2-1.43.59L10.3 9.45l-7.72 7.72c-.78.78-.78 2.05 0 2.83L4 21.41c.39.39.9.59 1.41.59.51 0 1.02-.2 1.41-.59l7.78-7.78 2.81-2.81c.8-.78.8-2.07 0-2.86zM5.41 20L4 18.59l7.72-7.72 1.47 1.35L5.41 20z\"/>\n",
              "  </svg>\n",
              "      </button>\n",
              "      \n",
              "  <style>\n",
              "    .colab-df-container {\n",
              "      display:flex;\n",
              "      flex-wrap:wrap;\n",
              "      gap: 12px;\n",
              "    }\n",
              "\n",
              "    .colab-df-convert {\n",
              "      background-color: #E8F0FE;\n",
              "      border: none;\n",
              "      border-radius: 50%;\n",
              "      cursor: pointer;\n",
              "      display: none;\n",
              "      fill: #1967D2;\n",
              "      height: 32px;\n",
              "      padding: 0 0 0 0;\n",
              "      width: 32px;\n",
              "    }\n",
              "\n",
              "    .colab-df-convert:hover {\n",
              "      background-color: #E2EBFA;\n",
              "      box-shadow: 0px 1px 2px rgba(60, 64, 67, 0.3), 0px 1px 3px 1px rgba(60, 64, 67, 0.15);\n",
              "      fill: #174EA6;\n",
              "    }\n",
              "\n",
              "    [theme=dark] .colab-df-convert {\n",
              "      background-color: #3B4455;\n",
              "      fill: #D2E3FC;\n",
              "    }\n",
              "\n",
              "    [theme=dark] .colab-df-convert:hover {\n",
              "      background-color: #434B5C;\n",
              "      box-shadow: 0px 1px 3px 1px rgba(0, 0, 0, 0.15);\n",
              "      filter: drop-shadow(0px 1px 2px rgba(0, 0, 0, 0.3));\n",
              "      fill: #FFFFFF;\n",
              "    }\n",
              "  </style>\n",
              "\n",
              "      <script>\n",
              "        const buttonEl =\n",
              "          document.querySelector('#df-e83d1035-f4a5-4a6c-bcc8-5c607df6a592 button.colab-df-convert');\n",
              "        buttonEl.style.display =\n",
              "          google.colab.kernel.accessAllowed ? 'block' : 'none';\n",
              "\n",
              "        async function convertToInteractive(key) {\n",
              "          const element = document.querySelector('#df-e83d1035-f4a5-4a6c-bcc8-5c607df6a592');\n",
              "          const dataTable =\n",
              "            await google.colab.kernel.invokeFunction('convertToInteractive',\n",
              "                                                     [key], {});\n",
              "          if (!dataTable) return;\n",
              "\n",
              "          const docLinkHtml = 'Like what you see? Visit the ' +\n",
              "            '<a target=\"_blank\" href=https://colab.research.google.com/notebooks/data_table.ipynb>data table notebook</a>'\n",
              "            + ' to learn more about interactive tables.';\n",
              "          element.innerHTML = '';\n",
              "          dataTable['output_type'] = 'display_data';\n",
              "          await google.colab.output.renderOutput(dataTable, element);\n",
              "          const docLink = document.createElement('div');\n",
              "          docLink.innerHTML = docLinkHtml;\n",
              "          element.appendChild(docLink);\n",
              "        }\n",
              "      </script>\n",
              "    </div>\n",
              "  </div>\n",
              "  "
            ]
          },
          "metadata": {},
          "execution_count": 7
        }
      ]
    },
    {
      "cell_type": "code",
      "source": [
        "df.overall.value_counts()"
      ],
      "metadata": {
        "colab": {
          "base_uri": "https://localhost:8080/"
        },
        "id": "NxQFtKAVOug6",
        "outputId": "352d67e0-ab4f-4de3-dc07-20cf994e6678"
      },
      "execution_count": 8,
      "outputs": [
        {
          "output_type": "execute_result",
          "data": {
            "text/plain": [
              "5.0    212452\n",
              "1.0    102548\n",
              "4.0     73596\n",
              "3.0     39395\n",
              "2.0     31445\n",
              "Name: overall, dtype: int64"
            ]
          },
          "metadata": {},
          "execution_count": 8
        }
      ]
    },
    {
      "cell_type": "code",
      "source": [
        "df.info()"
      ],
      "metadata": {
        "colab": {
          "base_uri": "https://localhost:8080/"
        },
        "id": "LqUDhxIXg587",
        "outputId": "3bec41fa-dac6-4a39-e468-2d703c6d67ed"
      },
      "execution_count": 9,
      "outputs": [
        {
          "output_type": "stream",
          "name": "stdout",
          "text": [
            "<class 'pandas.core.frame.DataFrame'>\n",
            "RangeIndex: 459436 entries, 0 to 459435\n",
            "Data columns (total 12 columns):\n",
            " #   Column          Non-Null Count   Dtype  \n",
            "---  ------          --------------   -----  \n",
            " 0   overall         459436 non-null  float64\n",
            " 1   verified        459436 non-null  bool   \n",
            " 2   reviewTime      459436 non-null  object \n",
            " 3   reviewerID      459436 non-null  object \n",
            " 4   asin            459436 non-null  object \n",
            " 5   style           234401 non-null  object \n",
            " 6   reviewerName    459412 non-null  object \n",
            " 7   reviewText      459370 non-null  object \n",
            " 8   summary         459380 non-null  object \n",
            " 9   unixReviewTime  459436 non-null  int64  \n",
            " 10  vote            127853 non-null  object \n",
            " 11  image           1508 non-null    object \n",
            "dtypes: bool(1), float64(1), int64(1), object(9)\n",
            "memory usage: 39.0+ MB\n"
          ]
        }
      ]
    },
    {
      "cell_type": "code",
      "source": [],
      "metadata": {
        "id": "mCiyV28Di-7k"
      },
      "execution_count": null,
      "outputs": []
    }
  ]
}