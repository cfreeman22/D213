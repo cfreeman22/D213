{
  "nbformat": 4,
  "nbformat_minor": 0,
  "metadata": {
    "colab": {
      "provenance": [],
      "authorship_tag": "ABX9TyPt3ERGGe9n56peBU3Qspzv",
      "include_colab_link": true
    },
    "kernelspec": {
      "name": "python3",
      "display_name": "Python 3"
    },
    "language_info": {
      "name": "python"
    }
  },
  "cells": [
    {
      "cell_type": "markdown",
      "metadata": {
        "id": "view-in-github",
        "colab_type": "text"
      },
      "source": [
        "<a href=\"https://colab.research.google.com/github/cfreeman22/D213/blob/main/modeling.ipynb\" target=\"_parent\"><img src=\"https://colab.research.google.com/assets/colab-badge.svg\" alt=\"Open In Colab\"/></a>"
      ]
    },
    {
      "cell_type": "code",
      "source": [
        "! pip install pmdarima"
      ],
      "metadata": {
        "colab": {
          "base_uri": "https://localhost:8080/"
        },
        "id": "dU5o_KrSfqro",
        "outputId": "c2754833-179c-4607-963e-3a643b0090bc"
      },
      "execution_count": null,
      "outputs": [
        {
          "output_type": "stream",
          "name": "stdout",
          "text": [
            "Looking in indexes: https://pypi.org/simple, https://us-python.pkg.dev/colab-wheels/public/simple/\n",
            "Collecting pmdarima\n",
            "  Downloading pmdarima-2.0.3-cp39-cp39-manylinux_2_17_x86_64.manylinux2014_x86_64.manylinux_2_28_x86_64.whl (1.9 MB)\n",
            "\u001b[2K     \u001b[90m━━━━━━━━━━━━━━━━━━━━━━━━━━━━━━━━━━━━━━━━\u001b[0m \u001b[32m1.9/1.9 MB\u001b[0m \u001b[31m11.0 MB/s\u001b[0m eta \u001b[36m0:00:00\u001b[0m\n",
            "\u001b[?25hRequirement already satisfied: joblib>=0.11 in /usr/local/lib/python3.9/dist-packages (from pmdarima) (1.2.0)\n",
            "Requirement already satisfied: Cython!=0.29.18,!=0.29.31,>=0.29 in /usr/local/lib/python3.9/dist-packages (from pmdarima) (0.29.34)\n",
            "Requirement already satisfied: scikit-learn>=0.22 in /usr/local/lib/python3.9/dist-packages (from pmdarima) (1.2.2)\n",
            "Requirement already satisfied: statsmodels>=0.13.2 in /usr/local/lib/python3.9/dist-packages (from pmdarima) (0.13.5)\n",
            "Requirement already satisfied: numpy>=1.21.2 in /usr/local/lib/python3.9/dist-packages (from pmdarima) (1.22.4)\n",
            "Requirement already satisfied: urllib3 in /usr/local/lib/python3.9/dist-packages (from pmdarima) (1.26.15)\n",
            "Requirement already satisfied: setuptools!=50.0.0,>=38.6.0 in /usr/local/lib/python3.9/dist-packages (from pmdarima) (67.6.1)\n",
            "Requirement already satisfied: scipy>=1.3.2 in /usr/local/lib/python3.9/dist-packages (from pmdarima) (1.10.1)\n",
            "Requirement already satisfied: pandas>=0.19 in /usr/local/lib/python3.9/dist-packages (from pmdarima) (1.5.3)\n",
            "Requirement already satisfied: python-dateutil>=2.8.1 in /usr/local/lib/python3.9/dist-packages (from pandas>=0.19->pmdarima) (2.8.2)\n",
            "Requirement already satisfied: pytz>=2020.1 in /usr/local/lib/python3.9/dist-packages (from pandas>=0.19->pmdarima) (2022.7.1)\n",
            "Requirement already satisfied: threadpoolctl>=2.0.0 in /usr/local/lib/python3.9/dist-packages (from scikit-learn>=0.22->pmdarima) (3.1.0)\n",
            "Requirement already satisfied: packaging>=21.3 in /usr/local/lib/python3.9/dist-packages (from statsmodels>=0.13.2->pmdarima) (23.1)\n",
            "Requirement already satisfied: patsy>=0.5.2 in /usr/local/lib/python3.9/dist-packages (from statsmodels>=0.13.2->pmdarima) (0.5.3)\n",
            "Requirement already satisfied: six in /usr/local/lib/python3.9/dist-packages (from patsy>=0.5.2->statsmodels>=0.13.2->pmdarima) (1.16.0)\n",
            "Installing collected packages: pmdarima\n",
            "Successfully installed pmdarima-2.0.3\n"
          ]
        }
      ]
    },
    {
      "cell_type": "code",
      "execution_count": null,
      "metadata": {
        "id": "gKN4O2dcfBAT"
      },
      "outputs": [],
      "source": [
        "#importing libraries\n",
        "#Importing packages\n",
        "import numpy as np\n",
        "import pandas as pd\n",
        "import matplotlib.pyplot as plt\n",
        "%matplotlib inline\n",
        "import seaborn as sns\n",
        "from dateutil.parser import parse\n",
        "import statsmodels.api as sm\n",
        "from statsmodels.tsa.stattools import adfuller\n",
        "from statsmodels.graphics.tsaplots import plot_acf, plot_pacf\n",
        "from pmdarima import auto_arima\n",
        "from statsmodels.tsa.arima.model import ARIMA\n",
        "from sklearn.metrics import mean_squared_error\n",
        "from scipy.signal import periodogram\n",
        "from math import sqrt\n",
        "import warnings\n",
        "warnings.filterwarnings('ignore')\n",
        "\n",
        "\n",
        "\n",
        "\n",
        "def read_and_plot_data(file_path):\n",
        "  # Mounting the Google Drive to read the data\n",
        "  drive.mount('/content/drive')\n",
        "\n",
        "  # Reading the data from the specified file path\n",
        "  data = pd.read_csv(file_path)\n",
        "\n",
        "  # Setting the 'Day' column as the index\n",
        "  data.set_index('Day', inplace=True)\n",
        "\n",
        "  # Converting index to datetime starting from January 1st, 2017\n",
        "  data.index = pd.to_datetime(data.index, unit='D', origin='2017-01-01')\n",
        "\n",
        "  # Checking for null values\n",
        "  print('Null Values:\\n', data.isnull().sum())\n",
        "\n",
        "  # Plotting the time series\n",
        "  data.plot(figsize=(15, 5))\n",
        "  plt.title(\"Teleco Time Series Data\")\n",
        "  plt.xlabel(\"Time\")\n",
        "  plt.ylabel(\"Value\")\n",
        "  plt.show()\n",
        "\n",
        "\n",
        "\n",
        "\n",
        "# Define the ADF test function\n",
        "def adf_test(timeseries):\n",
        "    adf_result = adfuller(timeseries, autolag='AIC')\n",
        "    adf_output = pd.Series(adf_result[0:4], index=['Test Statistic','p-value','# Lags Used','# Observations Used'])\n",
        "    for key,value in adf_result[4].items():\n",
        "        adf_output['Critical Value (%s)'%key] = value\n",
        "    print(adf_output)\n",
        "\n",
        "# Apply the ADF test to the data\n",
        "#adf_test(data['Revenue'])\n",
        "\n",
        "\n",
        "\n",
        " \n",
        "\n",
        "def plot_stationarity_analysis(file_path):\n",
        "    # Reading the data from file\n",
        "    data = pd.read_csv(file_path)\n",
        "    \n",
        "    # Checking for nulls\n",
        "    if data.isnull().sum().sum() > 0:\n",
        "        print(\"Warning: Null values found in the data.\")\n",
        "    \n",
        "    # Setting the Day column as the index for easier processing\n",
        "    # Since there is no starting date mentioned, let us assume the first date of operation was Jan 1st, 2017\n",
        "    data.set_index('Day', inplace=True)\n",
        "    data.index = pd.to_datetime(data.index, unit='D', origin='2017-01-01')\n",
        "\n",
        "    # Creating stationary time series\n",
        "    data_diff = data.diff().dropna()\n",
        "\n",
        "    # Create a figure with two subplots\n",
        "    fig, (ax1, ax2) = plt.subplots(2, 1, figsize=(15, 8))\n",
        "    \n",
        "    # Add data and labels to the first subplot\n",
        "    ax1.plot(data['Revenue'], color='blue')\n",
        "    ax1.set_title('Original Time Series with Upward Trend')\n",
        "    ax1.set_xlabel('Time')\n",
        "    ax1.set_ylabel('Values')\n",
        "    \n",
        "    # Add data and labels to the second subplot\n",
        "    ax2.plot(data_diff['Revenue'], color='green')\n",
        "    ax2.set_title('Adjusted and Stationary Time Series')\n",
        "    ax2.set_xlabel('Time')\n",
        "    ax2.set_ylabel('Values')\n",
        "    \n",
        "    # Add spacing between subplots and display the figure\n",
        "    plt.subplots_adjust(hspace=0.5)\n",
        "    plt.show()\n",
        "\n",
        "    # Plotting ACF and PACF of stationary time series\n",
        "    fig = plt.figure(figsize=(12,8))\n",
        "    ax1 = fig.add_subplot(211)\n",
        "    fig = sm.graphics.tsa.plot_acf(data_diff['Revenue'], ax=ax1)\n",
        "    ax2 = fig.add_subplot(212)\n",
        "    fig = sm.graphics.tsa.plot_pacf(data_diff['Revenue'], ax=ax2)\n",
        "    plt.show()\n",
        "\n",
        "\n",
        "\n",
        "#plot_stationarity_analysis('/content/drive/My Drive/teleco_time_series.csv')\n"
      ]
    }
  ]
}